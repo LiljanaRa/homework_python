{
 "cells": [
  {
   "cell_type": "code",
   "id": "initial_id",
   "metadata": {
    "collapsed": true,
    "ExecuteTime": {
     "end_time": "2025-01-03T20:14:19.233962Z",
     "start_time": "2025-01-03T20:14:15.411893Z"
    }
   },
   "source": [
    "# 1. Напишите программу, которая генерирует и выводит квадраты чисел \n",
    "# от 1 до N с использованием генераторного выражения. Реализуйте функцию generate_squares, \n",
    "# которая принимает число N в качестве аргумента и использует генераторное выражение \n",
    "# для генерации квадратов чисел. Затем выведите квадраты чисел на экран.\n",
    "\n",
    "def generate_squares(N):\n",
    "    my_gen = (x ** 2 for x in range(1, N + 1))\n",
    "    return my_gen\n",
    "\n",
    "N = int(input(\"Введите число: \"))\n",
    "\n",
    "for elem in generate_squares(N):\n",
    "    print(elem)\n",
    "  "
   ],
   "outputs": [
    {
     "name": "stdout",
     "output_type": "stream",
     "text": [
      "1\n",
      "4\n",
      "9\n",
      "16\n",
      "25\n"
     ]
    }
   ],
   "execution_count": 10
  },
  {
   "metadata": {
    "ExecuteTime": {
     "end_time": "2025-01-03T20:26:40.551217Z",
     "start_time": "2025-01-03T20:26:37.484517Z"
    }
   },
   "cell_type": "code",
   "source": [
    "# 2. Напишите генератор, который будет генерировать бесконечную последовательность Фибоначчи. \n",
    "# Каждый раз, когда генератор вызывается, он должен возвращать следующее число последовательности.\n",
    "# Напишите программу, которая будет использовать этот генератор для вывода первых N чисел Фибоначчи.\n",
    "\n",
    "def fib_gen():\n",
    "    a, b = 0, 1\n",
    "    while True:\n",
    "        yield a\n",
    "        a, b = b, a + b\n",
    "\n",
    "N = int(input(\"Введите количество чисел Фибоначчи: \"))\n",
    "\n",
    "my_fib_gen = fib_gen()\n",
    "print(\"Первые 10 чисел Фибоначчи: \")\n",
    "\n",
    "for elem in range(N):\n",
    "    print(next(my_fib_gen))\n"
   ],
   "id": "439b42ad777e0d8e",
   "outputs": [
    {
     "name": "stdout",
     "output_type": "stream",
     "text": [
      "Первые 10 чисел Фибоначчи: \n",
      "0\n",
      "1\n",
      "1\n",
      "2\n",
      "3\n",
      "5\n",
      "8\n",
      "13\n",
      "21\n",
      "34\n"
     ]
    }
   ],
   "execution_count": 14
  }
 ],
 "metadata": {
  "kernelspec": {
   "display_name": "Python 3",
   "language": "python",
   "name": "python3"
  },
  "language_info": {
   "codemirror_mode": {
    "name": "ipython",
    "version": 2
   },
   "file_extension": ".py",
   "mimetype": "text/x-python",
   "name": "python",
   "nbconvert_exporter": "python",
   "pygments_lexer": "ipython2",
   "version": "2.7.6"
  }
 },
 "nbformat": 4,
 "nbformat_minor": 5
}
