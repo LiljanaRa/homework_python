{
 "cells": [
  {
   "cell_type": "code",
   "id": "initial_id",
   "metadata": {
    "collapsed": true,
    "ExecuteTime": {
     "end_time": "2025-01-03T22:39:40.738090Z",
     "start_time": "2025-01-03T22:39:40.730001Z"
    }
   },
   "source": [
    "# 1. Напишите функцию, которая принимает список кортежей от пользователя, \n",
    "# где каждый кортеж содержит информацию о студенте (имя, возраст, средний балл). \n",
    "# Программа должна вывести на экран имена студентов, чей средний балл выше заданного \n",
    "# значения. Используйте методы кортежей и циклы для обработки данных.Выведите итоговый \n",
    "# список на экран с помощью команды print.\n",
    "\n",
    "\n",
    "students = [(\"Alice\", 20, 90), (\"Bob\", 19, 80), (\"Charlie\", 21, 95), (\"David\", 18, 85)]\n",
    "\n",
    "def identify_students(data, grade=90):\n",
    "    students_names = []\n",
    "    for student in data:\n",
    "        if student[-1] > grade:\n",
    "            students_names.append(student[0])\n",
    "    return students_names\n",
    "\n",
    "result = identify_students(students)\n",
    "\n",
    "print(\"Студенты с средним баллом выше 90: \", result)"
   ],
   "outputs": [
    {
     "name": "stdout",
     "output_type": "stream",
     "text": [
      "Студенты с средним баллом выше 90:  ['Charlie']\n"
     ]
    }
   ],
   "execution_count": 1
  },
  {
   "metadata": {},
   "cell_type": "code",
   "outputs": [],
   "execution_count": null,
   "source": "",
   "id": "3837b2518944901a"
  },
  {
   "metadata": {
    "ExecuteTime": {
     "end_time": "2025-01-03T22:42:14.138300Z",
     "start_time": "2025-01-03T22:41:36.833645Z"
    }
   },
   "cell_type": "code",
   "source": [
    "# 2. Напишите программу, которая принимает строку от пользователя \n",
    "# и разбивает ее на отдельные слова. Затем программа должна создать \n",
    "# новый кортеж, содержащий длину каждого слова в исходной строке. \n",
    "# Используйте методы строк и кортежей для обработки данных.\n",
    "\n",
    "\n",
    "user_input = input(\"Введите предложение: \").split()\n",
    "\n",
    "words_len = []\n",
    "\n",
    "for word in user_input:\n",
    "    words_len.append(len(word))\n",
    "    \n",
    "print(\"Введенное предложение: \", user_input)\n",
    "print(\"Длины слов в предложении: \", tuple(words_len))\n"
   ],
   "id": "5f6f31a272bda899",
   "outputs": [
    {
     "name": "stdout",
     "output_type": "stream",
     "text": [
      "Введенное предложение:  ['Рекурсия', 'это', 'процесс', 'когда', 'функция', 'вызывает', 'саму', 'себя']\n",
      "Длины слов в предложении:  (8, 3, 7, 5, 7, 8, 4, 4)\n"
     ]
    }
   ],
   "execution_count": 2
  }
 ],
 "metadata": {
  "kernelspec": {
   "display_name": "Python 3",
   "language": "python",
   "name": "python3"
  },
  "language_info": {
   "codemirror_mode": {
    "name": "ipython",
    "version": 2
   },
   "file_extension": ".py",
   "mimetype": "text/x-python",
   "name": "python",
   "nbconvert_exporter": "python",
   "pygments_lexer": "ipython2",
   "version": "2.7.6"
  }
 },
 "nbformat": 4,
 "nbformat_minor": 5
}
