{
 "cells": [
  {
   "cell_type": "code",
   "id": "initial_id",
   "metadata": {
    "collapsed": true,
    "ExecuteTime": {
     "end_time": "2025-01-03T22:10:27.159174Z",
     "start_time": "2025-01-03T22:10:27.154227Z"
    }
   },
   "source": [
    "# 1. Напишите программу, которая принимает список слов и возвращает список, содержащий только анаграммы. \n",
    "# Анаграммы - это слова, составленные из одних и тех же букв, но в разном порядке. \n",
    "# Создайте функцию anagrams, которая принимает список слов в качестве аргумента и возвращает список анаграмм.\n",
    "# Используйте множества и сортировку букв в слове для проверки на анаграмму. Выведите результат на экран.\n",
    "\n",
    "\n",
    "def anagrams(words):\n",
    "    anagrams_list = []\n",
    "    for word in words:\n",
    "        for elem in anagrams_list:\n",
    "            if sorted(elem[0]) == sorted(word):\n",
    "                elem.append(word)\n",
    "                break\n",
    "        else:\n",
    "            anagrams_list.append([word])\n",
    "    return anagrams_list\n",
    "    \n",
    "result = anagrams(['cat', 'dog', 'tac', 'god', 'act'])\n",
    "\n",
    "print(f\"Анаграммы: {result}\")"
   ],
   "outputs": [
    {
     "name": "stdout",
     "output_type": "stream",
     "text": [
      "Анаграммы: [['cat', 'tac', 'act'], ['dog', 'god']]\n"
     ]
    }
   ],
   "execution_count": 10
  },
  {
   "metadata": {
    "ExecuteTime": {
     "end_time": "2025-01-03T22:10:32.221097Z",
     "start_time": "2025-01-03T22:10:32.214170Z"
    }
   },
   "cell_type": "code",
   "source": [
    "# 2. Напишите функцию is_subset, которая принимает два множества set1 и set2 и проверяет, является ли set1 \n",
    "# подмножеством set2. Функция должна возвращать True, если все элементы из set1 содержатся в set2, и False в \n",
    "# противном случае. Функция должна быть реализована без использования встроенных методов issubset или <=.\n",
    "\n",
    "\n",
    "set_1 = {1, 2, 3}\n",
    "set_2 = {1, 2, 3, 4, 5}\n",
    "\n",
    "def is_subset(a, b):\n",
    "    for i in a:\n",
    "        if i not in b:\n",
    "            return False\n",
    "        return True\n",
    "    \n",
    "print(is_subset(set_1, set_2))"
   ],
   "id": "f2a470dc11e21cce",
   "outputs": [
    {
     "name": "stdout",
     "output_type": "stream",
     "text": [
      "True\n"
     ]
    }
   ],
   "execution_count": 11
  }
 ],
 "metadata": {
  "kernelspec": {
   "display_name": "Python 3",
   "language": "python",
   "name": "python3"
  },
  "language_info": {
   "codemirror_mode": {
    "name": "ipython",
    "version": 2
   },
   "file_extension": ".py",
   "mimetype": "text/x-python",
   "name": "python",
   "nbconvert_exporter": "python",
   "pygments_lexer": "ipython2",
   "version": "2.7.6"
  }
 },
 "nbformat": 4,
 "nbformat_minor": 5
}
