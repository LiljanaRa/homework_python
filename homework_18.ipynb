{
 "cells": [
  {
   "cell_type": "code",
   "id": "initial_id",
   "metadata": {
    "collapsed": true,
    "ExecuteTime": {
     "end_time": "2025-01-03T22:20:03.041404Z",
     "start_time": "2025-01-03T22:20:03.035780Z"
    }
   },
   "source": [
    "# 1. Написать программу, вычисляющую факториал числа.\n",
    "# Решить задачу с помощью рекурсии.\n",
    "\n",
    "def factorial_of_number(num):\n",
    "    if num == 1:\n",
    "        return 1\n",
    "    else:\n",
    "        return num * factorial_of_number(num - 1)\n",
    "    \n",
    "print(factorial_of_number(7))"
   ],
   "outputs": [
    {
     "name": "stdout",
     "output_type": "stream",
     "text": [
      "5040\n"
     ]
    }
   ],
   "execution_count": 1
  },
  {
   "metadata": {
    "ExecuteTime": {
     "end_time": "2025-01-03T22:21:10.490811Z",
     "start_time": "2025-01-03T22:21:04.538437Z"
    }
   },
   "cell_type": "code",
   "source": [
    "# 2. Напишите программу, которая использует рекурсию для вычисления суммы цифр числа. \n",
    "# Создайте функцию sum_digits, которая принимает один аргумент - число, для которого \n",
    "# нужно вычислить сумму цифр. Используйте условие выхода из рекурсии, когда число состоит \n",
    "# из одной цифры. Выведите результат на экран.\n",
    "\n",
    "def sum_digits(num):\n",
    "    if num < 10:\n",
    "        return num\n",
    "    return num % 10 + sum_digits(num//10)\n",
    "\n",
    "number = int(input(\"Enter a number: \"))\n",
    "print(\"Entered number: \", number)\n",
    "print(\"Sum of digits: \", sum_digits(number))"
   ],
   "id": "e598d1e89b42bc9f",
   "outputs": [
    {
     "name": "stdout",
     "output_type": "stream",
     "text": [
      "Entered number:  12345\n",
      "Sum of digits:  15\n"
     ]
    }
   ],
   "execution_count": 2
  }
 ],
 "metadata": {
  "kernelspec": {
   "display_name": "Python 3",
   "language": "python",
   "name": "python3"
  },
  "language_info": {
   "codemirror_mode": {
    "name": "ipython",
    "version": 2
   },
   "file_extension": ".py",
   "mimetype": "text/x-python",
   "name": "python",
   "nbconvert_exporter": "python",
   "pygments_lexer": "ipython2",
   "version": "2.7.6"
  }
 },
 "nbformat": 4,
 "nbformat_minor": 5
}
