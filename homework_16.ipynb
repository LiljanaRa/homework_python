{
 "cells": [
  {
   "cell_type": "code",
   "id": "initial_id",
   "metadata": {
    "collapsed": true,
    "ExecuteTime": {
     "end_time": "2025-01-03T22:29:28.651003Z",
     "start_time": "2025-01-03T22:29:10.835413Z"
    }
   },
   "source": [
    "# 1. Напишите программу, которая принимает матрицу (вложенный список) \n",
    "# от пользователя и находит сумму всех элементов в матрице. Используйте \n",
    "# вложенные списки и циклы для обхода элементов матрицы.\n",
    "\n",
    "\n",
    "user_input = int(input(\"Введите размер матрицы: \"))\n",
    "user_matrix = []\n",
    "\n",
    "for i in range(user_input):\n",
    " user_digits = [int(p) for p in input(\"Введите строку матрицы: \").split()]\n",
    " user_matrix.append(user_digits)\n",
    " \n",
    "sum_elem = 0\n",
    "\n",
    "for i in user_matrix:\n",
    " for j in i:\n",
    "    sum_elem += j\n",
    "print(\"Сумма элементов в матрице: \", sum_elem)"
   ],
   "outputs": [
    {
     "name": "stdout",
     "output_type": "stream",
     "text": [
      "Сумма элементов в матрице:  45\n"
     ]
    }
   ],
   "execution_count": 2
  },
  {
   "metadata": {
    "ExecuteTime": {
     "end_time": "2025-01-03T22:31:21.428360Z",
     "start_time": "2025-01-03T22:31:21.423296Z"
    }
   },
   "cell_type": "code",
   "source": [
    "user_list = [[1, 2, 3], [4, 5, 6], [7, 8, 9]]\n",
    "sum_i = 0\n",
    "\n",
    "for elem in user_list:\n",
    "    for i in elem:\n",
    "        sum_i += i\n",
    "        \n",
    "print(\"Сумма элементов в матрице: \", sum_i)        "
   ],
   "id": "f9808ff62f7bd284",
   "outputs": [
    {
     "name": "stdout",
     "output_type": "stream",
     "text": [
      "Сумма элементов в матрице:  45\n"
     ]
    }
   ],
   "execution_count": 3
  },
  {
   "metadata": {
    "ExecuteTime": {
     "end_time": "2025-01-03T22:35:49.679585Z",
     "start_time": "2025-01-03T22:35:38.844604Z"
    }
   },
   "cell_type": "code",
   "source": [
    "# 2. Напишите программу, которая принимает список чисел от пользователя \n",
    "# и сортирует его в порядке убывания, используя метод sort() и параметр reverse=True. \n",
    "# Выведите отсортированный список на экран.\n",
    "\n",
    "\n",
    "user_input = input(\"Введите список чисел через пробел: \").split()\n",
    "new_list = []\n",
    "\n",
    "for i in user_input:\n",
    "    if i.isdigit():\n",
    "        new_list.append(int(i))\n",
    "\n",
    "new_list.sort(reverse=True)\n",
    "\n",
    "print(\"Отсортированный список чисел: \", new_list)\n"
   ],
   "id": "7c112acc1e032bf9",
   "outputs": [
    {
     "name": "stdout",
     "output_type": "stream",
     "text": [
      "Отсортированный список чисел:  [8, 5, 3, 2, 1]\n"
     ]
    }
   ],
   "execution_count": 4
  },
  {
   "metadata": {
    "ExecuteTime": {
     "end_time": "2025-01-03T22:36:26.202267Z",
     "start_time": "2025-01-03T22:36:10.070995Z"
    }
   },
   "cell_type": "code",
   "source": [
    "user_list = [int(i) for i in input(\"Введите список чисел через пробел: \").split()]\n",
    "\n",
    "user_list.sort(reverse=True)\n",
    "\n",
    "print(\"Отсортированный список чисел: \", user_list)"
   ],
   "id": "578c4097f1289995",
   "outputs": [
    {
     "name": "stdout",
     "output_type": "stream",
     "text": [
      "Отсортированный список чисел:  [8, 5, 3, 2, 1]\n"
     ]
    }
   ],
   "execution_count": 5
  }
 ],
 "metadata": {
  "kernelspec": {
   "display_name": "Python 3",
   "language": "python",
   "name": "python3"
  },
  "language_info": {
   "codemirror_mode": {
    "name": "ipython",
    "version": 2
   },
   "file_extension": ".py",
   "mimetype": "text/x-python",
   "name": "python",
   "nbconvert_exporter": "python",
   "pygments_lexer": "ipython2",
   "version": "2.7.6"
  }
 },
 "nbformat": 4,
 "nbformat_minor": 5
}
