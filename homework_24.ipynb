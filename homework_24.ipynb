{
 "cells": [
  {
   "cell_type": "code",
   "id": "initial_id",
   "metadata": {
    "collapsed": true,
    "ExecuteTime": {
     "end_time": "2025-01-06T09:40:59.452888Z",
     "start_time": "2025-01-06T09:40:38.818914Z"
    }
   },
   "source": [
    "# 1. Напишите генератор, который будет принимать на вход числа и возвращать их сумму. \n",
    "# Генератор должен использовать инструкцию yield для возврата текущей суммы и должен \n",
    "# продолжать принимать новые числа для добавления к сумме. Если генератор получает на \n",
    "# вход число 0, он должен прекращать работу и вернуть окончательную сумму. Напишите программу, \n",
    "# которая будет использовать этот генератор для пошагового расчета суммы чисел, вводимых пользователем.\n",
    "\n",
    "\n",
    "def sum_generator():\n",
    "    cur_sum = 0\n",
    "    \n",
    "    while True:\n",
    "        num = yield cur_sum\n",
    "        if num == 0:\n",
    "            break\n",
    "        cur_sum += num\n",
    "        print(\"Текущая сумма: \", cur_sum)\n",
    "    \n",
    "res = sum_generator()\n",
    "next(res)\n",
    "\n",
    "while True:\n",
    "    try:\n",
    "        num = int(input(\"Введите числа для суммирования (0 для окончания): \"))\n",
    "        res.send(num)\n",
    "    except StopIteration:\n",
    "        break"
   ],
   "outputs": [
    {
     "name": "stdout",
     "output_type": "stream",
     "text": [
      "Текущая сумма:  2\n",
      "Текущая сумма:  5\n",
      "Текущая сумма:  10\n",
      "Текущая сумма:  14\n",
      "Текущая сумма:  20\n"
     ]
    }
   ],
   "execution_count": 1
  },
  {
   "metadata": {
    "ExecuteTime": {
     "end_time": "2025-01-06T13:46:26.670808Z",
     "start_time": "2025-01-06T13:46:26.664990Z"
    }
   },
   "cell_type": "code",
   "source": [
    "# 2. Напишите генератор, который будет генерировать арифметическую прогрессию\n",
    "\n",
    "\n",
    "def arith_progres(start, step, size):\n",
    "    counter = 1\n",
    "    while counter <= size:\n",
    "        yield start\n",
    "        start += step\n",
    "        counter += 1\n",
    "\n",
    "for elem in arith_progres(2,5,10):\n",
    "    print(elem, end=\" \")"
   ],
   "id": "d53e2bc45c117581",
   "outputs": [
    {
     "name": "stdout",
     "output_type": "stream",
     "text": [
      "2 7 12 17 22 27 32 37 42 47 "
     ]
    }
   ],
   "execution_count": 3
  }
 ],
 "metadata": {
  "kernelspec": {
   "display_name": "Python 3",
   "language": "python",
   "name": "python3"
  },
  "language_info": {
   "codemirror_mode": {
    "name": "ipython",
    "version": 2
   },
   "file_extension": ".py",
   "mimetype": "text/x-python",
   "name": "python",
   "nbconvert_exporter": "python",
   "pygments_lexer": "ipython2",
   "version": "2.7.6"
  }
 },
 "nbformat": 4,
 "nbformat_minor": 5
}
