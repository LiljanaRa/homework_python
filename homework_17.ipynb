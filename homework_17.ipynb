{
 "cells": [
  {
   "cell_type": "code",
   "id": "initial_id",
   "metadata": {
    "collapsed": true,
    "ExecuteTime": {
     "end_time": "2025-01-03T22:24:27.918810Z",
     "start_time": "2025-01-03T22:24:15.173765Z"
    }
   },
   "source": [
    "# 1. Напишите программу, которая принимает список чисел от пользователя и \n",
    "# передает его в функцию modify_list, которая изменяет элементы списка. \n",
    "# Функция должна умножить нечетные числа на 2, а четные числа разделить на 2. \n",
    "# Выведите измененный список на экран. Объясните, почему изменения происходят \n",
    "# только внутри функции и как работают изменяемые и неизменяемые параметры.\n",
    "\n",
    "\n",
    "user_input = [int(i) for i in input(\"Введите список чисел, разделенных пробелами: \").split() if i.isdigit()]\n",
    "\n",
    "def modify_list(arg):\n",
    "    new_list = []\n",
    "    for i in arg:\n",
    "        if i % 2 == 0:\n",
    "            new_list.append(i // 2)\n",
    "        else:\n",
    "             new_list.append(i * 2)\n",
    "    return new_list\n",
    "\n",
    "print(\"Введенный список чисел: \", user_input)\n",
    "print(\"Измененный список чисел: \", modify_list(user_input))"
   ],
   "outputs": [
    {
     "name": "stdout",
     "output_type": "stream",
     "text": [
      "Введенный список чисел:  [1, 2, 3, 4, 5]\n",
      "Измененный список чисел:  [2, 1, 6, 2, 10]\n"
     ]
    }
   ],
   "execution_count": 1
  },
  {
   "metadata": {
    "ExecuteTime": {
     "end_time": "2025-01-03T22:25:59.607466Z",
     "start_time": "2025-01-03T22:25:49.256292Z"
    }
   },
   "cell_type": "code",
   "source": [
    "# 2. Напишите программу, которая принимает произвольное количество аргументов \n",
    "# от пользователя и передает их в функцию calculate_sum, которая возвращает сумму \n",
    "# всех аргументов. Используйте оператор * при передаче аргументов в функцию. \n",
    "# Выведите результат на экран.\n",
    "\n",
    "\n",
    "user_input = [int(i) for i in input(\"Введите числа, разделенныe пробелами: \").split()]\n",
    "\n",
    "def calculate_sum(args):\n",
    "    sum_ = 0\n",
    "    for i in args:\n",
    "        sum_ += i\n",
    "    return sum_\n",
    "\n",
    "print(\"Введенные числа: \", user_input)    \n",
    "print(\"Сумма чисел: \", calculate_sum(user_input))"
   ],
   "id": "49e9851e680a60d",
   "outputs": [
    {
     "name": "stdout",
     "output_type": "stream",
     "text": [
      "Введенные числа:  [1, 2, 3, 4, 5]\n",
      "Сумма чисел:  15\n"
     ]
    }
   ],
   "execution_count": 2
  },
  {
   "metadata": {
    "ExecuteTime": {
     "end_time": "2025-01-03T22:44:44.919341Z",
     "start_time": "2025-01-03T22:44:44.914582Z"
    }
   },
   "cell_type": "code",
   "source": [
    "def calculate_sum(*args):\n",
    "    sum_ = 0\n",
    "    for i in args:\n",
    "        sum_ += i\n",
    "    return sum_\n",
    "    \n",
    "print(\"Сумма чисел: \", calculate_sum(1, 2, 3, 4, 5))"
   ],
   "id": "39801ce2d0f7cca5",
   "outputs": [
    {
     "name": "stdout",
     "output_type": "stream",
     "text": [
      "Сумма чисел:  15\n"
     ]
    }
   ],
   "execution_count": 3
  }
 ],
 "metadata": {
  "kernelspec": {
   "display_name": "Python 3",
   "language": "python",
   "name": "python3"
  },
  "language_info": {
   "codemirror_mode": {
    "name": "ipython",
    "version": 2
   },
   "file_extension": ".py",
   "mimetype": "text/x-python",
   "name": "python",
   "nbconvert_exporter": "python",
   "pygments_lexer": "ipython2",
   "version": "2.7.6"
  }
 },
 "nbformat": 4,
 "nbformat_minor": 5
}
