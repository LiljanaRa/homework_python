{
 "cells": [
  {
   "cell_type": "code",
   "id": "initial_id",
   "metadata": {
    "collapsed": true,
    "ExecuteTime": {
     "end_time": "2025-01-03T18:17:16.031454Z",
     "start_time": "2025-01-03T18:17:16.025813Z"
    }
   },
   "source": [
    "# 1. Напишите программу, которая открывает файл, считывает из него два числа \n",
    "# и выполняет операцию их деления. Если число отрицательное, выбросите исключение \n",
    "# ValueError с сообщением \"Число должно быть положительным\". \n",
    "# Обработайте исключение и выведите соответствующее сообщение.\n",
    "\n",
    "def divide_two_nums(filename):\n",
    "    try:\n",
    "        with open(filename, \"r\", encoding=\"UTF-8\") as f:\n",
    "            lines = f.readlines()\n",
    "            num1 = int(lines[0])\n",
    "            num2 = int(lines[1])\n",
    "            if num1 < 0 or num2 < 0:\n",
    "                raise ValueError(\"Число должно быть положительным.\")\n",
    "            \n",
    "        result = num1 / num2\n",
    "        print(result)\n",
    "    except ZeroDivisionError:\n",
    "        print(\"Деление на ноль невозможно!\")\n",
    "\n",
    "divide_two_nums(\"nums.txt\")"
   ],
   "outputs": [
    {
     "name": "stdout",
     "output_type": "stream",
     "text": [
      "Деление на ноль невозможно!\n"
     ]
    }
   ],
   "execution_count": 31
  },
  {
   "metadata": {
    "ExecuteTime": {
     "end_time": "2025-01-03T18:17:51.268266Z",
     "start_time": "2025-01-03T18:17:51.259924Z"
    }
   },
   "cell_type": "code",
   "source": [
    "# 2. Напишите программу, которая открывает файл, считывает его содержимое и \n",
    "# выполняет операции над числами в файле. Обработайте возможные исключения при \n",
    "# открытии файла (FileNotFoundError) и при выполнении операций над числами \n",
    "# (ValueError, ZeroDivisionError). Используйте конструкцию try-except-finally для \n",
    "# обработки исключений и закрытия файла в блоке finally.\n",
    "\n",
    "def open_file(filename):\n",
    "    try:\n",
    "        file = open(filename, \"r\", encoding=\"UTF-8\")\n",
    "        lines = file.readlines()\n",
    "        num1 = int(lines[0])\n",
    "        num2 = int(lines[1])\n",
    "        \n",
    "        nums_sum = num1 + num2\n",
    "        nums_diff = num1 - num2\n",
    "        nums_mult = num1 * num2\n",
    "        nums_div = num1 / num2\n",
    "        \n",
    "        print(f\"Сумма чисел: {nums_sum}\")\n",
    "        print(f\"Разность чисел: {nums_diff}\")\n",
    "        print(f\"Произведение чисел: {nums_mult}\")\n",
    "        print(f\"Частное чисел: {nums_div}\")\n",
    "                \n",
    "    except FileNotFoundError:\n",
    "        print(\"Файл не найден.\")\n",
    "    except ZeroDivisionError:\n",
    "        print(\"Деление на ноль невозможно!\")\n",
    "    except ValueError:\n",
    "        print(\"Невалидное значение.\")\n",
    "    finally:\n",
    "        file.close()\n",
    "        \n",
    "open_file(\"nums.txt\")"
   ],
   "id": "329ef22005313f53",
   "outputs": [
    {
     "name": "stdout",
     "output_type": "stream",
     "text": [
      "Невалидное значение.\n"
     ]
    }
   ],
   "execution_count": 32
  }
 ],
 "metadata": {
  "kernelspec": {
   "display_name": "Python 3",
   "language": "python",
   "name": "python3"
  },
  "language_info": {
   "codemirror_mode": {
    "name": "ipython",
    "version": 2
   },
   "file_extension": ".py",
   "mimetype": "text/x-python",
   "name": "python",
   "nbconvert_exporter": "python",
   "pygments_lexer": "ipython2",
   "version": "2.7.6"
  }
 },
 "nbformat": 4,
 "nbformat_minor": 5
}
